{
 "cells": [
  {
   "cell_type": "markdown",
   "metadata": {},
   "source": [
    "# Global Imports"
   ]
  },
  {
   "cell_type": "code",
   "execution_count": 3,
   "metadata": {
    "collapsed": false
   },
   "outputs": [
    {
     "name": "stdout",
     "output_type": "stream",
     "text": [
      "Populating the interactive namespace from numpy and matplotlib\n"
     ]
    }
   ],
   "source": [
    "%pylab inline"
   ]
  },
  {
   "cell_type": "markdown",
   "metadata": {},
   "source": [
    "### External Package Imports"
   ]
  },
  {
   "cell_type": "code",
   "execution_count": 4,
   "metadata": {
    "collapsed": false
   },
   "outputs": [],
   "source": [
    "import os as os\n",
    "import pickle as pickle\n",
    "import pandas as pd"
   ]
  },
  {
   "cell_type": "markdown",
   "metadata": {},
   "source": [
    "### Module Imports"
   ]
  },
  {
   "cell_type": "code",
   "execution_count": 5,
   "metadata": {
    "collapsed": false
   },
   "outputs": [],
   "source": [
    "from Stats.Scipy import *\n",
    "from Stats.Survival import *\n",
    "from Helpers.Pandas import *\n",
    "\n",
    "from Figures.FigureHelpers import *\n",
    "from Figures.Pandas import *\n",
    "from Figures.Boxplots import *\n",
    "from Figures.Survival import draw_survival_curve, survival_and_stats\n",
    "from Figures.Survival import draw_survival_curves\n",
    "from Figures.Survival import survival_stat_plot"
   ]
  },
  {
   "cell_type": "code",
   "execution_count": 6,
   "metadata": {
    "collapsed": false
   },
   "outputs": [],
   "source": [
    "import Data.Firehose as FH"
   ]
  },
  {
   "cell_type": "markdown",
   "metadata": {},
   "source": [
    "### Tweaking Display Parameters"
   ]
  },
  {
   "cell_type": "code",
   "execution_count": 7,
   "metadata": {
    "collapsed": false
   },
   "outputs": [],
   "source": [
    "pd.set_option('precision', 3)\n",
    "pd.set_option('display.width', 300)\n",
    "plt.rcParams['font.size'] = 12"
   ]
  },
  {
   "cell_type": "code",
   "execution_count": 8,
   "metadata": {
    "collapsed": false
   },
   "outputs": [],
   "source": [
    "'''Color schemes for paper taken from http://colorbrewer2.org/'''\n",
    "colors = plt.rcParams['axes.color_cycle']\n",
    "colors_st = ['#CA0020', '#F4A582', '#92C5DE', '#0571B0']\n",
    "colors_th = ['#E66101', '#FDB863', '#B2ABD2', '#5E3C99']"
   ]
  },
  {
   "cell_type": "markdown",
   "metadata": {},
   "source": [
    "### Function to Pull a Firehose Run Container"
   ]
  },
  {
   "cell_type": "code",
   "execution_count": 9,
   "metadata": {
    "collapsed": false
   },
   "outputs": [],
   "source": [
    "def get_run(firehose_dir, version='Latest'):\n",
    "    '''\n",
    "    Helper to get a run from the file-system. \n",
    "    '''\n",
    "    path = '{}/ucsd_analyses'.format(firehose_dir)\n",
    "    if version is 'Latest':\n",
    "        version = sorted(os.listdir(path))[-1]\n",
    "    run = pickle.load(open('{}/{}/RunObject.p'.format(path, version), 'rb'))\n",
    "    return run"
   ]
  },
  {
   "cell_type": "markdown",
   "metadata": {},
   "source": [
    "### Read In Data"
   ]
  },
  {
   "cell_type": "markdown",
   "metadata": {},
   "source": [
    "Here we read in the pre-processed data that we downloaded and initialized in the [download_data notebook](download_data.ipynb)."
   ]
  },
  {
   "cell_type": "code",
   "execution_count": 10,
   "metadata": {
    "collapsed": false
   },
   "outputs": [
    {
     "name": "stdout",
     "output_type": "stream",
     "text": [
      "populating namespace with data\n"
     ]
    }
   ],
   "source": [
    "print 'populating namespace with data'"
   ]
  },
  {
   "cell_type": "code",
   "execution_count": 11,
   "metadata": {
    "collapsed": false
   },
   "outputs": [],
   "source": [
    "OUT_PATH = '/cellar/users/agross/TCGA_Code/CancerData/Data'\n",
    "RUN_DATE = '2014_07_15'\n",
    "VERSION = 'all'\n",
    "CANCER = 'HNSC'\n",
    "FIGDIR = '../Figures/'\n",
    "if not os.path.isdir(FIGDIR):\n",
    "    os.makedirs(FIGDIR)"
   ]
  },
  {
   "cell_type": "code",
   "execution_count": 12,
   "metadata": {
    "collapsed": false
   },
   "outputs": [],
   "source": [
    "run_path  = '{}/Firehose__{}/'.format(OUT_PATH, RUN_DATE)\n",
    "run = get_run(run_path, 'Run_' + VERSION)\n",
    "run.data_path = run_path \n",
    "run.result_path = run_path + 'ucsd_analyses'\n",
    "run.report_path = run_path + 'ucsd_analyses/Run_all'\n",
    "\n",
    "cancer = run.load_cancer(CANCER)\n",
    "cancer.path = '{}/{}'.format(run.report_path , cancer.name)\n",
    "clinical = cancer.load_clinical()\n",
    "\n",
    "mut = cancer.load_data('Mutation')\n",
    "mut.uncompress()\n",
    "cn = cancer.load_data('CN_broad')\n",
    "cn.uncompress()"
   ]
  },
  {
   "cell_type": "code",
   "execution_count": 13,
   "metadata": {
    "collapsed": false
   },
   "outputs": [],
   "source": [
    "rna = FH.read_rnaSeq(run.data_path, cancer.name, tissue_code='All')\n",
    "mirna = FH.read_miRNASeq(run.data_path, cancer.name, tissue_code='All')"
   ]
  },
  {
   "cell_type": "code",
   "execution_count": 14,
   "metadata": {
    "collapsed": false
   },
   "outputs": [],
   "source": [
    "keepers_o = pd.read_csv('/cellar/users/agross/TCGA_Code/TCGA_Working/Data/Firehose__2014_04_16/' + 'old_keepers.csv', index_col=0,\n",
    "                        squeeze=True)\n",
    "keepers_o = array(keepers_o)"
   ]
  },
  {
   "cell_type": "markdown",
   "metadata": {},
   "source": [
    "#### Update Clinical Data"
   ]
  },
  {
   "cell_type": "code",
   "execution_count": 15,
   "metadata": {
    "collapsed": false
   },
   "outputs": [
    {
     "data": {
      "text/plain": [
       "(508, 56)"
      ]
     },
     "execution_count": 15,
     "metadata": {},
     "output_type": "execute_result"
    }
   ],
   "source": [
    "from Processing.ProcessClinicalDataPortal import update_clinical_object\n",
    "\n",
    "p = '/cellar/users/agross/TCGA_Code/TCGA/Data'\n",
    "path  = p + '/Followup_R9/HNSC/'\n",
    "clinical = update_clinical_object(clinical, path)\n",
    "clinical.clinical.shape"
   ]
  },
  {
   "cell_type": "code",
   "execution_count": 16,
   "metadata": {
    "collapsed": false
   },
   "outputs": [],
   "source": [
    "#hpv = clinical.hpv\n",
    "surv = clinical.survival.survival_5y\n",
    "age = clinical.clinical.age.astype(float)\n",
    "old = pd.Series(1.*(age>=75), name='old')"
   ]
  },
  {
   "cell_type": "code",
   "execution_count": 139,
   "metadata": {
    "collapsed": true
   },
   "outputs": [],
   "source": [
    "p = '/cellar/users/agross/TCGA_Code/TCGA/Data'\n",
    "f = p + '/MAFs/PR_TCGA_HNSC_PAIR_Capture_All_Pairs_QCPASS_v4.aggregated.capture.tcga.uuid.automated.somatic.maf.txt'\n",
    "mut_new = pd.read_table(f, skiprows=4, low_memory=False)\n",
    "keep = (mut_new.Variant_Classification.isin(['Silent', 'Intron', \"3'UTR\", \"5'UTR\"])==False)\n",
    "mut_new = mut_new[keep]\n",
    "mut_new['barcode'] = mut_new.Tumor_Sample_Barcode.map(lambda s: s[:12])\n",
    "mut_new = mut_new.groupby(['barcode','Hugo_Symbol']).size().unstack().fillna(0).T\n",
    "mut_new = mut.df.combine_first(mut_new).fillna(0)"
   ]
  },
  {
   "cell_type": "code",
   "execution_count": 214,
   "metadata": {
    "collapsed": false
   },
   "outputs": [],
   "source": [
    "gistic = FH.get_gistic_gene_matrix(run.data_path, cancer.name)\n",
    "del_3p = gistic.ix['3p14.2'].median(0)\n",
    "del_3p.name = '3p_deletion'"
   ]
  },
  {
   "cell_type": "markdown",
   "metadata": {},
   "source": [
    "#### HPV Data"
   ]
  },
  {
   "cell_type": "code",
   "execution_count": 18,
   "metadata": {
    "collapsed": false
   },
   "outputs": [],
   "source": [
    "p = '/cellar/users/agross/TCGA_Code/TCGA/'\n",
    "hpv_all = pd.read_csv(p + '/Extra_Data/hpv_summary_3_20_13_distribute.csv', index_col=0)\n",
    "hpv = hpv_all.Molecular_HPV.map({0:'HPV-', 1:'HPV+'})\n",
    "hpv.name = 'HPV'\n",
    "hpv_seq = hpv"
   ]
  },
  {
   "cell_type": "code",
   "execution_count": 19,
   "metadata": {
    "collapsed": false
   },
   "outputs": [],
   "source": [
    "status = clinical.clinical[['hpvstatusbyishtesting','hpvstatusbyp16testing']]\n",
    "status = status.replace('[Not Evaluated]', nan)\n",
    "hpv_clin = (status.dropna() == 'Positive').sum(1)\n",
    "hpv_clin = hpv_clin.map({2: 'HPV+', 0:'HPV-', 1:nan}).dropna()"
   ]
  },
  {
   "cell_type": "code",
   "execution_count": 20,
   "metadata": {
    "collapsed": false
   },
   "outputs": [
    {
     "data": {
      "text/plain": [
       "HPV-    65\n",
       "HPV+    18\n",
       "dtype: int64"
      ]
     },
     "execution_count": 20,
     "metadata": {},
     "output_type": "execute_result"
    }
   ],
   "source": [
    "hpv_clin.value_counts()"
   ]
  },
  {
   "cell_type": "code",
   "execution_count": 21,
   "metadata": {
    "collapsed": false
   },
   "outputs": [
    {
     "data": {
      "text/plain": [
       "HPV-    24\n",
       "HPV+    14\n",
       "dtype: int64"
      ]
     },
     "execution_count": 21,
     "metadata": {},
     "output_type": "execute_result"
    }
   ],
   "source": [
    "hpv_clin.ix[hpv_clin.index.diff(hpv_seq.index)].value_counts()"
   ]
  },
  {
   "cell_type": "code",
   "execution_count": 22,
   "metadata": {
    "collapsed": false
   },
   "outputs": [],
   "source": [
    "hpv_new = pd.read_table(p + '/Data/Followup_R6/HNSC/auxiliary_hnsc.txt',\n",
    "                  skiprows=[1], index_col=0, na_values=['[Not Available]'])\n",
    "hpv_new = hpv_new['hpv_status']"
   ]
  },
  {
   "cell_type": "code",
   "execution_count": 23,
   "metadata": {
    "collapsed": false
   },
   "outputs": [],
   "source": [
    "hpv = (hpv_seq.dropna() == 'HPV+').combine_first(hpv_new == 'Positive')\n",
    "hpv.name = 'HPV'"
   ]
  },
  {
   "cell_type": "code",
   "execution_count": 24,
   "metadata": {
    "collapsed": false
   },
   "outputs": [
    {
     "data": {
      "text/plain": [
       "False    450\n",
       "True      78\n",
       "dtype: int64"
      ]
     },
     "execution_count": 24,
     "metadata": {},
     "output_type": "execute_result"
    }
   ],
   "source": [
    "hpv.value_counts()"
   ]
  },
  {
   "cell_type": "code",
   "execution_count": 25,
   "metadata": {
    "collapsed": false
   },
   "outputs": [],
   "source": [
    "n = ti(hpv==False)"
   ]
  },
  {
   "cell_type": "code",
   "execution_count": 26,
   "metadata": {
    "collapsed": false
   },
   "outputs": [
    {
     "data": {
      "text/plain": [
       "odds_ratio    6.79e+00\n",
       "p             5.46e-07\n",
       "dtype: float64"
      ]
     },
     "execution_count": 26,
     "metadata": {},
     "output_type": "execute_result"
    }
   ],
   "source": [
    "fisher_exact_test(del_3p<0, mut_new.ix['TP53'].ix[n.diff(keepers_o)]>0)"
   ]
  }
 ],
 "metadata": {
  "kernelspec": {
   "display_name": "Python 2",
   "language": "python",
   "name": "python2"
  },
  "language_info": {
   "codemirror_mode": {
    "name": "ipython",
    "version": 2
   },
   "file_extension": ".py",
   "mimetype": "text/x-python",
   "name": "python",
   "nbconvert_exporter": "python",
   "pygments_lexer": "ipython2",
   "version": "2.7.7"
  }
 },
 "nbformat": 4,
 "nbformat_minor": 0
}
